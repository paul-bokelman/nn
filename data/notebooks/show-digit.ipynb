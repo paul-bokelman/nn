{
 "cells": [
  {
   "cell_type": "code",
   "execution_count": 2,
   "metadata": {},
   "outputs": [
    {
     "name": "stdout",
     "output_type": "stream",
     "text": [
      "[  5   0   0   0   0   0   0   0   0   0   0   0   0   0   0   0   0   0\n",
      "   0   0   0   0   0   0   0   0   0   0   0   0   0   0   0   0   0   0\n",
      "   0   0   0   0   0   0   0   0   0   0   0   0   0   0   0   0   0   0\n",
      "   0   0   0   0   0   0   0   0   0   0   0   0   0   0   0   0   0   0\n",
      "   0   0   0   0   0   0   0   0   0   0   0   0   0   0   0   0   0   0\n",
      "   0   0   0   0   0   0   0   0   0   0   0   0   0   0   0   0   0   0\n",
      "   0   0   0   0   0   0   0   0   0   0   0   0   0   0   0   0   0   0\n",
      "   0   0   0   0   0   0   0   0   0   0   0   0   0   0   0   0   0   0\n",
      "   0   0   0   0   0   0   0   0   0   3  18  18  18 126 136 175  26 166\n",
      " 255 247 127   0   0   0   0   0   0   0   0   0   0   0   0  30  36  94\n",
      " 154 170 253 253 253 253 253 225 172 253 242 195  64   0   0   0   0   0\n",
      "   0   0   0   0   0   0  49 238 253 253 253 253 253 253 253 253 251  93\n",
      "  82  82  56  39   0   0   0   0   0   0   0   0   0   0   0   0  18 219\n",
      " 253 253 253 253 253 198 182 247 241   0   0   0   0   0   0   0   0   0\n",
      "   0   0   0   0   0   0   0   0   0  80 156 107 253 253 205  11   0  43\n",
      " 154   0   0   0   0   0   0   0   0   0   0   0   0   0   0   0   0   0\n",
      "   0   0  14   1 154 253  90   0   0   0   0   0   0   0   0   0   0   0\n",
      "   0   0   0   0   0   0   0   0   0   0   0   0   0   0 139 253 190   2\n",
      "   0   0   0   0   0   0   0   0   0   0   0   0   0   0   0   0   0   0\n",
      "   0   0   0   0   0   0  11 190 253  70   0   0   0   0   0   0   0   0\n",
      "   0   0   0   0   0   0   0   0   0   0   0   0   0   0   0   0   0  35\n",
      " 241 225 160 108   1   0   0   0   0   0   0   0   0   0   0   0   0   0\n",
      "   0   0   0   0   0   0   0   0   0   0  81 240 253 253 119  25   0   0\n",
      "   0   0   0   0   0   0   0   0   0   0   0   0   0   0   0   0   0   0\n",
      "   0   0   0  45 186 253 253 150  27   0   0   0   0   0   0   0   0   0\n",
      "   0   0   0   0   0   0   0   0   0   0   0   0   0   0  16  93 252 253\n",
      " 187   0   0   0   0   0   0   0   0   0   0   0   0   0   0   0   0   0\n",
      "   0   0   0   0   0   0   0   0 249 253 249  64   0   0   0   0   0   0\n",
      "   0   0   0   0   0   0   0   0   0   0   0   0   0   0   0  46 130 183\n",
      " 253 253 207   2   0   0   0   0   0   0   0   0   0   0   0   0   0   0\n",
      "   0   0   0   0   0  39 148 229 253 253 253 250 182   0   0   0   0   0\n",
      "   0   0   0   0   0   0   0   0   0   0   0   0   0  24 114 221 253 253\n",
      " 253 253 201  78   0   0   0   0   0   0   0   0   0   0   0   0   0   0\n",
      "   0   0   0  23  66 213 253 253 253 253 198  81   2   0   0   0   0   0\n",
      "   0   0   0   0   0   0   0   0   0   0   0  18 171 219 253 253 253 253\n",
      " 195  80   9   0   0   0   0   0   0   0   0   0   0   0   0   0   0   0\n",
      "   0  55 172 226 253 253 253 253 244 133  11   0   0   0   0   0   0   0\n",
      "   0   0   0   0   0   0   0   0   0   0   0 136 253 253 253 212 135 132\n",
      "  16   0   0   0   0   0   0   0   0   0   0   0   0   0   0   0   0   0\n",
      "   0   0   0   0   0   0   0   0   0   0   0   0   0   0   0   0   0   0\n",
      "   0   0   0   0   0   0   0   0   0   0   0   0   0   0   0   0   0   0\n",
      "   0   0   0   0   0   0   0   0   0   0   0   0   0   0   0   0   0   0\n",
      "   0   0   0   0   0   0   0   0   0   0   0   0   0   0   0   0   0   0\n",
      "   0   0   0   0   0   0   0   0   0   0   0]\n"
     ]
    }
   ],
   "source": [
    "from PIL import Image\n",
    "from pandas import read_csv\n",
    "import numpy as np\n",
    " \n",
    "d = read_csv('../digits/mnist_train.csv') \n",
    "df = d.values\n",
    "print(df[0])"
   ]
  },
  {
   "cell_type": "code",
   "execution_count": 3,
   "metadata": {},
   "outputs": [],
   "source": [
    "import random\n",
    "pixels = df[random.randint(0, 600)][1:]\n",
    "# print(pixels)\n",
    "image = Image.new(mode='RGB', size=(28,28))\n",
    "\n",
    "# for(row)\n",
    "for row in range(28):\n",
    "    for col in range(28):\n",
    "        image.putpixel(xy=(row, col), value=(pixels[row*28 + col], pixels[row*28 + col], pixels[row*28 + col]))\n",
    "\n",
    "image.transpose(Image.FLIP_LEFT_RIGHT).rotate(90).show()"
   ]
  }
 ],
 "metadata": {
  "kernelspec": {
   "display_name": "Python 3",
   "language": "python",
   "name": "python3"
  },
  "language_info": {
   "codemirror_mode": {
    "name": "ipython",
    "version": 3
   },
   "file_extension": ".py",
   "mimetype": "text/x-python",
   "name": "python",
   "nbconvert_exporter": "python",
   "pygments_lexer": "ipython3",
   "version": "3.11.5"
  }
 },
 "nbformat": 4,
 "nbformat_minor": 2
}
